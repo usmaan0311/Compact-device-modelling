version https://git-lfs.github.com/spec/v1
oid sha256:de9b490e3acd8ca6ac5937aae87896a5827a5ab70b21b8385b0ad100a8120de3
size 104134
