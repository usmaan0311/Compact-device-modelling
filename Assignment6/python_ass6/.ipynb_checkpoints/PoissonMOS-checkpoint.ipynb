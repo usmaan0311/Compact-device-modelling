version https://git-lfs.github.com/spec/v1
oid sha256:573869498c5810eba4c9b4d40ed694fd9f32ea85b254e7eb93939d8fcfccf33f
size 434516
