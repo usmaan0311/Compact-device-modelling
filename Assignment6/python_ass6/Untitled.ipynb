version https://git-lfs.github.com/spec/v1
oid sha256:d2836b9429bf75d77c7447a1ec903cb8badbce4eaf1ce1da4b8d5f0c0ea0fa80
size 290723
