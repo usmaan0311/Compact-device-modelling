version https://git-lfs.github.com/spec/v1
oid sha256:979c853329539ea4873b5848e57395bc7b76cf00fca9cd60505ebf94331c4f69
size 300953
