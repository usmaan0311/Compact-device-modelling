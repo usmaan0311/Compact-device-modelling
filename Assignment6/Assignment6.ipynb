version https://git-lfs.github.com/spec/v1
oid sha256:85c1bebfb922bd92fda8c76fe385f7184609c914c78503db46d22e29d37e1523
size 1275276
