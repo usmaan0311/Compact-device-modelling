version https://git-lfs.github.com/spec/v1
oid sha256:7fb7eed92b7ba2e4906ef68d2e09d307e2a719c596958836e7ed19c1ea512fc8
size 45592
