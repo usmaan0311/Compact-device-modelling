version https://git-lfs.github.com/spec/v1
oid sha256:14d0f877092e09dbef8e8b577ee4a4a7369284bdf2fb2cefec6b2f71daa00359
size 3286299
