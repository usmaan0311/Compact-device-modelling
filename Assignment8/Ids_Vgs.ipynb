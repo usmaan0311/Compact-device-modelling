version https://git-lfs.github.com/spec/v1
oid sha256:bb190a5e95d1881acb319158bfbb9f9e9f896e1fe4d847049bd8ddd5356a96be
size 2564136
