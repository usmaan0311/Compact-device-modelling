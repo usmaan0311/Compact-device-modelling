version https://git-lfs.github.com/spec/v1
oid sha256:5be0b3915c90e4133d40602808f1de73ef4e0d1c0ada36f10c4fb710df8811fb
size 4473530
