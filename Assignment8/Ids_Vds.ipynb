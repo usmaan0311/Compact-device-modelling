version https://git-lfs.github.com/spec/v1
oid sha256:399f5a1dc1c78a47856cf175e68522921f2bdb30f992f42b5738114771cbb9a9
size 1643516
