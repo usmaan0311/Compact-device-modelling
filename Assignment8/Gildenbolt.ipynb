version https://git-lfs.github.com/spec/v1
oid sha256:9e01240f955d65c8dfd4e03c16909d3d160f48309ef320e28c8ef19f33262b32
size 93535
