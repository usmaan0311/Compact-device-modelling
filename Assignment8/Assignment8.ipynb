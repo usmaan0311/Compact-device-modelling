version https://git-lfs.github.com/spec/v1
oid sha256:1b3f8d5f7f0fa2f42adf67bea9c6c5479868c05e08006efc788c5b8f029c4520
size 693519
