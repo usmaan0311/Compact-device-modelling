version https://git-lfs.github.com/spec/v1
oid sha256:bbac0c67005582e57c2a49ae3cd7b6b74cf494a73d40a37e311d6a4a5fc4e803
size 5322
