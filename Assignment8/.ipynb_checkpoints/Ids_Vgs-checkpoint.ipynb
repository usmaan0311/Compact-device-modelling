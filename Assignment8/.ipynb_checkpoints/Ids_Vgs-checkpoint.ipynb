version https://git-lfs.github.com/spec/v1
oid sha256:c2d72223b5f59b114524e41093b815a57fe7de0e1994897da3c22454f5c1e2e7
size 2546245
