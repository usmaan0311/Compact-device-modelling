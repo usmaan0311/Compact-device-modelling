version https://git-lfs.github.com/spec/v1
oid sha256:c4aa78e87ef51ddb67cdbfdfd8e2affc2edce6c27ab712614c05b6725ea238c3
size 1105
