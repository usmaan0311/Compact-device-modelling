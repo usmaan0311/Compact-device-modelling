version https://git-lfs.github.com/spec/v1
oid sha256:ea8df99a0a012b672a3002f89654015ce54e5954a6b6be977e17b37943538788
size 578820
