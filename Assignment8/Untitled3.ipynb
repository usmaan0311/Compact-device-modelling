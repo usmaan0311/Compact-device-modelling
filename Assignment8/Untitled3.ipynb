version https://git-lfs.github.com/spec/v1
oid sha256:2c6fe594a28a56d1ea72d5dac0f88c8f1c61307d6a6651462cfaea1fba4fa0eb
size 45783
