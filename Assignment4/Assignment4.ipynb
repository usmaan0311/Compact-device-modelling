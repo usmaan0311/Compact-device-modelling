version https://git-lfs.github.com/spec/v1
oid sha256:c73b798d82d70a75e2a79a769f8d01cdb240b6a9d0b8782b8645cf66c2e93fdb
size 29393
