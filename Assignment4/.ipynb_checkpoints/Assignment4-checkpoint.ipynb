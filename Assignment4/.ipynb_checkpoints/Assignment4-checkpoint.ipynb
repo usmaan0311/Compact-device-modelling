version https://git-lfs.github.com/spec/v1
oid sha256:5f376ac296679292a7590eb4991d0cad22e9a1ca75c9def2f88ae805aabf7050
size 28902
