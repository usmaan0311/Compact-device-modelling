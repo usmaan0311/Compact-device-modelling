version https://git-lfs.github.com/spec/v1
oid sha256:964fdf39e8bc0ea4809c7e4003d0cf8e9727f75032c7fd796ed0e2ec50e5ef95
size 66238
