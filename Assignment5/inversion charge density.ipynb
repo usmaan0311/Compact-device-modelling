version https://git-lfs.github.com/spec/v1
oid sha256:1c04144eb84b625e64c31e2b8d250a5226471b75fbdd9c245bc72447f641c1bc
size 3951
