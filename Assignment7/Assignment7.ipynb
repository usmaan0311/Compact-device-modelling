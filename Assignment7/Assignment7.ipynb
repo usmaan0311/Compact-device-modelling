version https://git-lfs.github.com/spec/v1
oid sha256:f779724e213eca9cd13f7474b7090211c0ad9079ca40cf75f8270be0b20124b5
size 721786
