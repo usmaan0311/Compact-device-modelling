version https://git-lfs.github.com/spec/v1
oid sha256:b8b6e4623b1fa2498bbee52a7ab5fe0b33e1f9b5e09836020d291f0d8e296a36
size 612007
