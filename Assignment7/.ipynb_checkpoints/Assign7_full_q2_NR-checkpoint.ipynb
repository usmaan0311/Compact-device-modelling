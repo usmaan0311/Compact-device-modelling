version https://git-lfs.github.com/spec/v1
oid sha256:e29ebffc23e96df00a056bc0287ef2633398d0bd088eecc023e328db96a58706
size 889150
