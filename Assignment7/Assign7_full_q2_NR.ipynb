version https://git-lfs.github.com/spec/v1
oid sha256:c9a9c57c55bd3fbe041fcba03aed7c44583cb34e2c7d952e565a176ed6ac7faf
size 888075
