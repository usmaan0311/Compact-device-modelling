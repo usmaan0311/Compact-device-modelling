version https://git-lfs.github.com/spec/v1
oid sha256:012e2e1f56f9ca36e110e99dee525aa4746cb03d33ca7fda7bbe654b3fd79e11
size 11794939
