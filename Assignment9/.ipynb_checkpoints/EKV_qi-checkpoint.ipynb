version https://git-lfs.github.com/spec/v1
oid sha256:ae9f958b494ea9b5ab5b942d2dc69124ab2d2cb01a7a21942e65be34a79943f8
size 61360
