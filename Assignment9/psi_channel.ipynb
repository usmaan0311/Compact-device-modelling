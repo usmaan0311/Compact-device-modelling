version https://git-lfs.github.com/spec/v1
oid sha256:1f9023823c73f03e44df6e1cc26458717cdcd1c3e633e1eaf92722dae44ed5ed
size 341682
