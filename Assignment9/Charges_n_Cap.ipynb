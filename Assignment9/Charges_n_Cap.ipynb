version https://git-lfs.github.com/spec/v1
oid sha256:02cfcaed929d3f4aa3a02f8ef9cc2b084ae270123a396ae9e07ff8cf40fff0ab
size 12237644
