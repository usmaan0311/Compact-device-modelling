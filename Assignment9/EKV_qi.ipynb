version https://git-lfs.github.com/spec/v1
oid sha256:bc26a3cb2369bf3aebcb2ce811aab1b7b73eced76ea68be33e06b084d3fcadfb
size 61432
