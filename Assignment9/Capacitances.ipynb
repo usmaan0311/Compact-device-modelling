version https://git-lfs.github.com/spec/v1
oid sha256:a0a0248cfecb3cc59cd85a78125215042ef15e41860146425915adbee1e466b7
size 15091523
