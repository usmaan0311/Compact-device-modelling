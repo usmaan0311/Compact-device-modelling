version https://git-lfs.github.com/spec/v1
oid sha256:6c342e972a1d70214cbbb74143e2e608c04beb27da6482ab004ff54025ec3744
size 166348
