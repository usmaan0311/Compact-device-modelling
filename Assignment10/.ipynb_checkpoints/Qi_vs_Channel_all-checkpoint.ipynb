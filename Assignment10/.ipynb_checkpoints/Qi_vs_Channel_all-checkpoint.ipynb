version https://git-lfs.github.com/spec/v1
oid sha256:cde3dc115db0ae0ecee0dbfc3c0a8440bdd7fbb7987e8d95464d85a1150fd267
size 429508
