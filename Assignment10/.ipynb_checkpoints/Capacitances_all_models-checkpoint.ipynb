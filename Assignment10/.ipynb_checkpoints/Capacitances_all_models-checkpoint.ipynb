version https://git-lfs.github.com/spec/v1
oid sha256:c82e5dc16c455833be20d48fc25fa85d73b8f10325f8c4f55126a6132bee6263
size 5240034
