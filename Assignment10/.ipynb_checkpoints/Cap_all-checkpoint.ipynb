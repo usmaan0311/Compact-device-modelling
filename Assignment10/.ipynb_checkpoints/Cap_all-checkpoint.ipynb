version https://git-lfs.github.com/spec/v1
oid sha256:63211e8d466b82b3edd9bbe0b2b180daf2d54fef5eb86ad60777b1a719648456
size 2590265
