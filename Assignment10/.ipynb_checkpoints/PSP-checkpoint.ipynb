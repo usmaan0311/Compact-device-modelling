version https://git-lfs.github.com/spec/v1
oid sha256:a00ed0b58669bbb6cc6e29aa20b7a3d394da4b6badb106f0753701dff3ff3a33
size 2049209
