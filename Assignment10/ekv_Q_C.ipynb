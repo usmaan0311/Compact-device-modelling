version https://git-lfs.github.com/spec/v1
oid sha256:f2126aa866263310626ba1d88883a3dbde52ee8fc72f3c90ccaa5141476e49f2
size 67203
