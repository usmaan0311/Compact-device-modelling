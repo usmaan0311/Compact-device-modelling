version https://git-lfs.github.com/spec/v1
oid sha256:446b04fdcae5973fa30d11ad4b8c1f7b5f9500e85f661c638c3da5c2e02a9c17
size 96155
