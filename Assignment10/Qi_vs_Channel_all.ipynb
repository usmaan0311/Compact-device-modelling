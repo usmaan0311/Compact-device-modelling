version https://git-lfs.github.com/spec/v1
oid sha256:e92b8cebd10bb694aefca444abdb35227f3a261fe9c7c4155ffe08a02e847b40
size 311538
