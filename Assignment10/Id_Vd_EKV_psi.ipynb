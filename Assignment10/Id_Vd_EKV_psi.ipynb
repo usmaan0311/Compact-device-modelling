version https://git-lfs.github.com/spec/v1
oid sha256:b0cb45a6276eaee5678fc754a9ee02bdd1ed5df021a1ad9ac3576cdfc5a0b1d3
size 197432
