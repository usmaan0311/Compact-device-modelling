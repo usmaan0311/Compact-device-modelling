version https://git-lfs.github.com/spec/v1
oid sha256:c2c9a10ba7331e51f6b6bba7b35aab4811cbf39c003ce2e0302266a35a9105d8
size 5240904
