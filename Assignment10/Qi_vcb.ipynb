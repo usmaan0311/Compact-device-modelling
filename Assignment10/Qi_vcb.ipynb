version https://git-lfs.github.com/spec/v1
oid sha256:24ed401cca9c48a6d25516ea9222ceb16447508089bbb78fcdf4f31ea035fbef
size 2959
